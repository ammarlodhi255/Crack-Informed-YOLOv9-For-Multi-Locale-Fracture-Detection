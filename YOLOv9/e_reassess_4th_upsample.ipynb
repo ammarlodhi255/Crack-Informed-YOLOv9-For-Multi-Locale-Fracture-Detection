{
 "cells": [
  {
   "cell_type": "code",
   "execution_count": 7,
   "metadata": {},
   "outputs": [
    {
     "name": "stdout",
     "output_type": "stream",
     "text": [
      "\u001b[34m\u001b[1mtrain_dual: \u001b[0mweights=/cluster/home/ammaa/Downloads/Ammars/Models/Fracture_Detection/YOLOV9/runs/train/e_crack2/weights/best.pt, cfg=models/detect/v9e-augment.yaml, data=data/data.yaml, hyp=hyp.scratch-highcopy.yaml, epochs=500, batch_size=32, imgsz=640, rect=False, resume=False, nosave=False, noval=False, noautoanchor=False, noplots=False, evolve=None, bucket=, cache=None, image_weights=False, device=0, multi_scale=False, single_cls=False, optimizer=SGD, sync_bn=False, workers=8, project=runs/train, name=e_reassess_4th_upsample, exist_ok=False, quad=False, cos_lr=False, flat_cos_lr=False, fixed_lr=False, label_smoothing=0.0, patience=50, freeze=[0], save_period=-1, seed=0, local_rank=-1, min_items=0, close_mosaic=15, entity=None, upload_dataset=False, bbox_interval=-1, artifact_alias=latest\n",
      "YOLO 🚀 2024-3-22 Python-3.12.2 torch-2.2.1+cu121 CUDA:0 (NVIDIA A100 80GB PCIe, 81050MiB)\n",
      "\n",
      "\u001b[34m\u001b[1mhyperparameters: \u001b[0mlr0=0.01, lrf=0.01, momentum=0.937, weight_decay=0.0005, warmup_epochs=3.0, warmup_momentum=0.8, warmup_bias_lr=0.1, box=7.5, cls=0.5, cls_pw=1.0, obj=0.7, obj_pw=1.0, dfl=1.5, iou_t=0.2, anchor_t=5.0, fl_gamma=0.0, hsv_h=0.015, hsv_s=0.7, hsv_v=0.4, degrees=0.0, translate=0.1, scale=0.9, shear=0.0, perspective=0.0, flipud=0.0, fliplr=0.5, mosaic=1.0, mixup=0.15, copy_paste=0.0\n",
      "\u001b[34m\u001b[1mClearML: \u001b[0mrun 'pip install clearml' to automatically track, visualize and remotely train YOLO 🚀 in ClearML\n",
      "\u001b[34m\u001b[1mComet: \u001b[0mrun 'pip install comet_ml' to automatically track and visualize YOLO 🚀 runs in Comet\n",
      "\u001b[34m\u001b[1mTensorBoard: \u001b[0mStart with 'tensorboard --logdir runs/train', view at http://localhost:6006/\n",
      "Overriding model.yaml nc=80 with nc=2\n",
      "\n",
      "                 from  n    params  module                                  arguments                     \n",
      "  0                -1  1         0  models.common.Silence                   []                            \n",
      "  1                -1  1      1856  models.common.Conv                      [3, 64, 3, 2]                 \n",
      "  2                -1  1     73984  models.common.Conv                      [64, 128, 3, 2]               \n",
      "  3                -1  1    295424  models.common.Conv                      [128, 256, 3, 2]              \n",
      "  4                -1  1    268544  models.common.RepNCSPELAN4              [256, 256, 128, 64, 2]        \n",
      "  5                -1  1    164352  models.common.ADown                     [256, 256]                    \n",
      "  6                -1  1   1004032  models.common.RepNCSPELAN4              [256, 512, 256, 128, 2]       \n",
      "  7                -1  1    656384  models.common.ADown                     [512, 512]                    \n",
      "  8                -1  1   4006912  models.common.RepNCSPELAN4              [512, 1024, 512, 256, 2]      \n",
      "  9                -1  1   2623488  models.common.ADown                     [1024, 1024]                  \n",
      " 10                -1  1   4269056  models.common.RepNCSPELAN4              [1024, 1024, 512, 256, 2]     \n",
      " 11                 1  1      4160  models.common.CBLinear                  [64, [64]]                    \n",
      " 12                 3  1     49344  models.common.CBLinear                  [256, [64, 128]]              \n",
      " 13                 5  1    115136  models.common.CBLinear                  [256, [64, 128, 256]]         \n",
      " 14                 7  1    492480  models.common.CBLinear                  [512, [64, 128, 256, 512]]    \n",
      " 15                 9  1   2033600  models.common.CBLinear                  [1024, [64, 128, 256, 512, 1024]]\n",
      " 16                 0  1      1856  models.common.Conv                      [3, 64, 3, 2]                 \n",
      " 17[10, 11, 12, 13, 14, -1]  1         0  models.common.CBFuse                    [[0, 0, 0, 0, 0]]             \n",
      " 18                -1  1     73984  models.common.Conv                      [64, 128, 3, 2]               \n",
      " 19[11, 12, 13, 14, -1]  1         0  models.common.CBFuse                    [[1, 1, 1, 1]]                \n",
      " 20                -1  1    252160  models.common.RepNCSPELAN4              [128, 256, 128, 64, 2]        \n",
      " 21                -1  1    164352  models.common.ADown                     [256, 256]                    \n",
      " 22  [12, 13, 14, -1]  1         0  models.common.CBFuse                    [[2, 2, 2]]                   \n",
      " 23                -1  1   1004032  models.common.RepNCSPELAN4              [256, 512, 256, 128, 2]       \n",
      " 24                -1  1    656384  models.common.ADown                     [512, 512]                    \n",
      " 25      [13, 14, -1]  1         0  models.common.CBFuse                    [[3, 3]]                      \n",
      " 26                -1  1   4006912  models.common.RepNCSPELAN4              [512, 1024, 512, 256, 2]      \n",
      " 27                -1  1   2623488  models.common.ADown                     [1024, 1024]                  \n",
      " 28          [14, -1]  1         0  models.common.CBFuse                    [[4]]                         \n",
      " 29                -1  1   4269056  models.common.RepNCSPELAN4              [1024, 1024, 512, 256, 2]     \n",
      " 30                 9  1    787968  models.common.SPPELAN                   [1024, 512, 256]              \n",
      " 31                -1  1         0  torch.nn.modules.upsampling.Upsample    [None, 2, 'nearest']          \n",
      " 32           [-1, 7]  1         0  models.common.Concat                    [1]                           \n",
      " 33                -1  1   3743744  models.common.RepNCSPELAN4              [1024, 512, 512, 256, 2]      \n",
      " 34                -1  1         0  torch.nn.modules.upsampling.Upsample    [None, 2, 'nearest']          \n",
      " 35           [-1, 5]  1         0  models.common.Concat                    [1]                           \n",
      " 36                -1  1   1003520  models.common.RepNCSPELAN4              [768, 256, 256, 128, 2]       \n",
      " 37                28  1    787968  models.common.SPPELAN                   [1024, 512, 256]              \n",
      " 38                -1  1         0  torch.nn.modules.upsampling.Upsample    [None, 2, 'nearest']          \n",
      " 39          [-1, 25]  1         0  models.common.Concat                    [1]                           \n",
      " 40                -1  1   3743744  models.common.RepNCSPELAN4              [1024, 512, 512, 256, 2]      \n",
      " 41                -1  1         0  torch.nn.modules.upsampling.Upsample    [None, 2, 'nearest']          \n",
      " 42          [-1, 22]  1         0  models.common.Concat                    [1]                           \n",
      " 43                -1  1   1003520  models.common.RepNCSPELAN4              [768, 256, 256, 128, 2]       \n",
      " 44                -1  1    164352  models.common.ADown                     [256, 256]                    \n",
      " 45          [-1, 39]  1         0  models.common.Concat                    [1]                           \n",
      " 46                -1  1   3874816  models.common.RepNCSPELAN4              [1280, 512, 512, 256, 2]      \n",
      " 47                -1  1    656384  models.common.ADown                     [512, 512]                    \n",
      " 48          [-1, 36]  1         0  models.common.Concat                    [1]                           \n",
      " 49                -1  1  12598272  models.common.RepNCSPELAN4              [768, 512, 1024, 512, 2]      \n",
      " 50[35, 32, 29, 42, 45, 48]  1  81059756  models.yolo.DualDDetect                 [2, [768, 1024, 1024, 768, 1280, 768]]\n",
      "Traceback (most recent call last):\n",
      "  File \"/cluster/home/ammaa/Downloads/Ammars/Models/Fracture_Detection/YOLOV9/train_dual.py\", line 644, in <module>\n",
      "    main(opt)\n",
      "  File \"/cluster/home/ammaa/Downloads/Ammars/Models/Fracture_Detection/YOLOV9/train_dual.py\", line 538, in main\n",
      "    train(opt.hyp, opt, device, callbacks)\n",
      "  File \"/cluster/home/ammaa/Downloads/Ammars/Models/Fracture_Detection/YOLOV9/train_dual.py\", line 111, in train\n",
      "    model = Model(cfg or ckpt['model'].yaml, ch=3, nc=nc, anchors=hyp.get('anchors')).to(device)  # create\n",
      "            ^^^^^^^^^^^^^^^^^^^^^^^^^^^^^^^^^^^^^^^^^^^^^^^^^^^^^^^^^^^^^^^^^^^^^^^^^\n",
      "  File \"/cluster/home/ammaa/Downloads/Ammars/Models/Fracture_Detection/YOLOV9/models/yolo.py\", line 568, in __init__\n",
      "    m.stride = torch.tensor([s / x.shape[-2] for x in forward(torch.zeros(1, ch, s, s))])  # forward\n",
      "                                                      ^^^^^^^^^^^^^^^^^^^^^^^^^^^^^^^^^\n",
      "  File \"/cluster/home/ammaa/Downloads/Ammars/Models/Fracture_Detection/YOLOV9/models/yolo.py\", line 567, in <lambda>\n",
      "    forward = lambda x: self.forward(x)[0]\n",
      "                        ^^^^^^^^^^^^^^^\n",
      "  File \"/cluster/home/ammaa/Downloads/Ammars/Models/Fracture_Detection/YOLOV9/models/yolo.py\", line 582, in forward\n",
      "    return self._forward_once(x, profile, visualize)  # single-scale inference, train\n",
      "           ^^^^^^^^^^^^^^^^^^^^^^^^^^^^^^^^^^^^^^^^^\n",
      "  File \"/cluster/home/ammaa/Downloads/Ammars/Models/Fracture_Detection/YOLOV9/models/yolo.py\", line 481, in _forward_once\n",
      "    x = m(x)  # run\n",
      "        ^^^^\n",
      "  File \"/cluster/home/ammaa/.conda/envs/yolov9/lib/python3.12/site-packages/torch/nn/modules/module.py\", line 1511, in _wrapped_call_impl\n",
      "    return self._call_impl(*args, **kwargs)\n",
      "           ^^^^^^^^^^^^^^^^^^^^^^^^^^^^^^^^\n",
      "  File \"/cluster/home/ammaa/.conda/envs/yolov9/lib/python3.12/site-packages/torch/nn/modules/module.py\", line 1520, in _call_impl\n",
      "    return forward_call(*args, **kwargs)\n",
      "           ^^^^^^^^^^^^^^^^^^^^^^^^^^^^^\n",
      "  File \"/cluster/home/ammaa/Downloads/Ammars/Models/Fracture_Detection/YOLOV9/models/common.py\", line 648, in forward\n",
      "    res = [F.interpolate(x[self.idx[i]], size=target_size, mode='nearest') for i, x in enumerate(xs[:-1])]\n",
      "           ^^^^^^^^^^^^^^^^^^^^^^^^^^^^^^^^^^^^^^^^^^^^^^^^^^^^^^^^^^^^^^^\n",
      "  File \"/cluster/home/ammaa/.conda/envs/yolov9/lib/python3.12/site-packages/torch/nn/functional.py\", line 3934, in interpolate\n",
      "    raise ValueError(\n",
      "ValueError: Input and output must have the same number of spatial dimensions, but got input with spatial dimensions of [4] and output size of torch.Size([128, 128]). Please provide input tensor in (N, C, d1, d2, ...,dK) format and output size in (o1, o2, ...,oK) format.\n"
     ]
    }
   ],
   "source": [
    "!python train_dual.py --weights \"/cluster/home/ammaa/Downloads/Ammars/Models/Fracture_Detection/YOLOV9/runs/train/e_crack2/weights/best.pt\" --workers 8 --device 0 --data data/data.yaml --batch 32 --img 640 --epochs 500 --cfg models/detect/v9e-augment.yaml --patience 50 --name e_reassess_4th_upsample --hyp hyp.scratch-highcopy.yaml --min-items 0 --close-mosaic 15"
   ]
  },
  {
   "cell_type": "code",
   "execution_count": 2,
   "metadata": {},
   "outputs": [
    {
     "name": "stdout",
     "output_type": "stream",
     "text": [
      "\u001b[34m\u001b[1mval_dual: \u001b[0mdata=data/data.yaml, weights=['runs/train/e_reassess_thrice/weights/best.pt'], batch_size=32, imgsz=640, conf_thres=0.001, iou_thres=0.5, max_det=300, task=val, device=, workers=8, single_cls=False, augment=False, verbose=False, save_txt=False, save_hybrid=False, save_conf=False, save_json=False, project=runs/val, name=e_reassess_thrice_validation, exist_ok=False, half=False, dnn=False, min_items=0\n",
      "YOLO 🚀 2024-3-22 Python-3.12.2 torch-2.2.1+cu121 CUDA:0 (NVIDIA A100 80GB PCIe, 81050MiB)\n",
      "\n",
      "Fusing layers... \n",
      "yolov9-e summary: 839 layers, 68549356 parameters, 0 gradients, 240.7 GFLOPs\n",
      "\u001b[34m\u001b[1mval: \u001b[0mScanning /cluster/home/ammaa/Downloads/Ammars/Models/Fracture_Detection/YOL\u001b[0m\n",
      "                 Class     Images  Instances          P          R      mAP50   \n",
      "                   all         82         91      0.861      0.527      0.592      0.254\n",
      "             fractured         82         91      0.861      0.527      0.592      0.254\n",
      "Speed: 1.9ms pre-process, 37.7ms inference, 41.8ms NMS per image at shape (32, 3, 640, 640)\n",
      "Results saved to \u001b[1mruns/val/e_reassess_thrice_validation\u001b[0m\n"
     ]
    }
   ],
   "source": [
    "!python val_dual.py --data data/data.yaml --img 640 --batch 32 --conf 0.001 --iou 0.5 --weights \"runs/train/e_reassess_thrice/weights/best.pt\" --name e_reassess_thrice_validation"
   ]
  },
  {
   "cell_type": "code",
   "execution_count": 3,
   "metadata": {},
   "outputs": [
    {
     "name": "stdout",
     "output_type": "stream",
     "text": [
      "\u001b[34m\u001b[1mval_dual: \u001b[0mdata=data/data.yaml, weights=['runs/train/e_reassess_thrice/weights/best.pt'], batch_size=32, imgsz=640, conf_thres=0.001, iou_thres=0.5, max_det=300, task=val, device=, workers=8, single_cls=False, augment=False, verbose=False, save_txt=False, save_hybrid=False, save_conf=False, save_json=False, project=runs/val, name=e_reassess_thrice, exist_ok=False, half=False, dnn=False, min_items=0\n",
      "YOLO 🚀 2024-3-22 Python-3.12.2 torch-2.2.1+cu121 CUDA:0 (NVIDIA A100 80GB PCIe, 81050MiB)\n",
      "\n",
      "Fusing layers... \n",
      "yolov9-e summary: 839 layers, 68549356 parameters, 0 gradients, 240.7 GFLOPs\n",
      "\u001b[34m\u001b[1mval: \u001b[0mScanning /cluster/home/ammaa/Downloads/Ammars/Models/Fracture_Detection/YOL\u001b[0m\n",
      "                 Class     Images  Instances          P          R      mAP50   \n",
      "                   all         61         67      0.894      0.505      0.595      0.243\n",
      "             fractured         61         67      0.894      0.505      0.595      0.243\n",
      "Speed: 0.1ms pre-process, 49.5ms inference, 54.5ms NMS per image at shape (32, 3, 640, 640)\n",
      "Results saved to \u001b[1mruns/val/e_reassess_thrice\u001b[0m\n"
     ]
    }
   ],
   "source": [
    "!python val_dual.py --data data/data.yaml --img 640 --batch 32 --conf 0.001 --iou 0.5 --weights \"runs/train/e_reassess_thrice/weights/best.pt\" --name e_reassess_thrice"
   ]
  }
 ],
 "metadata": {
  "kernelspec": {
   "display_name": "Python 3",
   "language": "python",
   "name": "python3"
  },
  "language_info": {
   "codemirror_mode": {
    "name": "ipython",
    "version": 3
   },
   "file_extension": ".py",
   "mimetype": "text/x-python",
   "name": "python",
   "nbconvert_exporter": "python",
   "pygments_lexer": "ipython3",
   "version": "3.12.2"
  }
 },
 "nbformat": 4,
 "nbformat_minor": 2
}
